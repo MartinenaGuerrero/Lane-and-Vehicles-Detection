{
 "cells": [
  {
   "cell_type": "markdown",
   "metadata": {},
   "source": [
    "## Camera Calibration\n",
    "<br>\n",
    "**Goal**<br>\n",
    "\n",
    "\n",
    "\n",
    "- Learn distortions in camera, intrinsic and extrinsic parameters of camera.\n",
    "- Learn to find these parameters and undistort images.\n",
    "\n"
   ]
  },
  {
   "cell_type": "markdown",
   "metadata": {},
   "source": [
    "Due to radial distortion, straight lines appears to be curved. This effect is more as we move away from the center of image.<br> \n",
    "For example, one image is shown below, where two edges of a chess board are marked with red lines. But you can see that border is not a straight line and doesn’t match with the red line. All the expected straight lines are bulged out.\n",
    "\n",
    "![Radial Distortion](calib_radial.jpg \"Radial Distortion\")\n",
    "\n",
    "\n",
    "**The distortion is solved as:**<br>\n",
    "x<sub>{corrected}</sub> = x( 1 + k<sub>1</sub> r<sup>2</sup> + k<sub>2</sub> r<sup>4</sup> + k<sub>3</sub> r<sup>6</sup>) <br> \n",
    "y<sub>{corrected}</sub> = y( 1 + k<sub>1</sub> r<sup>2</sup> + k<sub>2</sub> r<sup>4</sup> + k<sub>3</sub> r<sup>6</sup>)\n",
    "****"
   ]
  },
  {
   "cell_type": "markdown",
   "metadata": {
    "collapsed": true
   },
   "source": [
    "Similarly, another distortion is the **tangential distortion** which occurs because image taking lense is not aligned perfectly parallel to the imaging plane.<br> So some areas in image may look nearer than expected. <br>\n",
    "**Tangential distortion is solved as:**<br>\n",
    "x<sub>{corrected}</sub> = x + [ 2p<sub>1</sub>xy + p<sub>2</sub>(r<sup>2</sup> + 2x<sup>2</sup>)]\n",
    "<br> \n",
    "y<sub>{corrected}</sub> = y + [p<sub>1</sub>(r<sup>2</sup>+ 2y<sup>2</sup>) +2 p<sub>2</sub>xy]"
   ]
  },
  {
   "cell_type": "markdown",
   "metadata": {
    "collapsed": true
   },
   "source": [
    "In short, we need to find five parameters, known as distortion coefficients given by:<br>\n",
    "\n",
    "Distortion coefficients=(k<sub>1</sub>, k<sub>2</sub>, p<sub>1</sub>, p<sub>2</sub>, k<sub>3</sub>)<br>\n",
    "\n",
    "In addition to this, we need to find a few more informatios like:<br> \n",
    "- Intrinsic parameters\n",
    "- Extrinsic parameters of a camera.\n",
    "<br>\n",
    "Intrinsic parameters are specific to a camera. It includes information like focal length (f<sub>x</sub>,f<sub>y</sub>), optical centers (c<sub>x</sub>, c<sub>y</sub>) etc.<br> \n",
    "It is also called camera matrix and depends on the camera only, so once calculated, it can be stored for future purposes. It is expressed as a 3x3 matrix:\n",
    "\n",
    "camera matrix = $$\n",
    "\\left(\\begin{array}{cc} \n",
    "f_x & 0 & c_x\\\\\n",
    "0 & f_y & c_y\\\\\n",
    "0 & 0 & 1\n",
    "\\end{array}\\right)\n",
    "$$ \n",
    "\n",
    "Extrinsic parameters corresponds to rotation and translation vectors which translates a coordinates of a 3D point to a coordinate system."
   ]
  },
  {
   "cell_type": "markdown",
   "metadata": {},
   "source": [
    "For stereo applications, these distortions need to be corrected first. To find all these parameters, what we have to do is to provide some sample images of a well defined pattern (eg, chess board). <br>We find some specific points in it ( square corners in chess board). <br>We know its coordinates in real world space and we know its coordinates in image. For better results, we need atleast 10 test patterns."
   ]
  },
  {
   "cell_type": "code",
   "execution_count": 2,
   "metadata": {
    "collapsed": true
   },
   "outputs": [],
   "source": [
    "# This folder has sample chessboards images so we will use them\n"
   ]
  },
  {
   "cell_type": "code",
   "execution_count": null,
   "metadata": {
    "collapsed": true
   },
   "outputs": [],
   "source": []
  }
 ],
 "metadata": {
  "kernelspec": {
   "display_name": "Python 2",
   "language": "python",
   "name": "python2"
  },
  "language_info": {
   "codemirror_mode": {
    "name": "ipython",
    "version": 2
   },
   "file_extension": ".py",
   "mimetype": "text/x-python",
   "name": "python",
   "nbconvert_exporter": "python",
   "pygments_lexer": "ipython2",
   "version": "2.7.12"
  }
 },
 "nbformat": 4,
 "nbformat_minor": 2
}
